{
 "cells": [
  {
   "cell_type": "code",
   "execution_count": 1,
   "id": "73b3f66d-a5ee-40c9-9b6b-b710f479cba7",
   "metadata": {},
   "outputs": [
    {
     "data": {
      "text/plain": [
       "12"
      ]
     },
     "execution_count": 1,
     "metadata": {},
     "output_type": "execute_result"
    }
   ],
   "source": [
    "5+7"
   ]
  },
  {
   "cell_type": "code",
   "execution_count": 3,
   "id": "77d20c2f-1c31-45ea-b11a-43ed7d88d2ff",
   "metadata": {},
   "outputs": [],
   "source": [
    "lista=[0,1,2,3,4,5]"
   ]
  },
  {
   "cell_type": "code",
   "execution_count": 4,
   "id": "3bdc5cf6-aa49-45c2-9bc8-ba75bbd79ff6",
   "metadata": {},
   "outputs": [
    {
     "data": {
      "text/plain": [
       "[0, 1, 2, 3, 4, 5, 0, 1, 2, 3, 4, 5]"
      ]
     },
     "execution_count": 4,
     "metadata": {},
     "output_type": "execute_result"
    }
   ],
   "source": [
    "lista*2"
   ]
  },
  {
   "cell_type": "code",
   "execution_count": 5,
   "id": "17939b09-4ac0-4114-963c-6c0f3b720c4e",
   "metadata": {},
   "outputs": [],
   "source": [
    "lista2=[\"nombre\", \"edad\"]"
   ]
  },
  {
   "cell_type": "code",
   "execution_count": 6,
   "id": "43fae546-56fb-4471-becb-296b88bc30ed",
   "metadata": {},
   "outputs": [
    {
     "data": {
      "text/plain": [
       "'nombre'"
      ]
     },
     "execution_count": 6,
     "metadata": {},
     "output_type": "execute_result"
    }
   ],
   "source": [
    "lista2[0]"
   ]
  },
  {
   "cell_type": "code",
   "execution_count": 7,
   "id": "9dd77b1a-ce4e-45be-a08d-2434f6e8b743",
   "metadata": {},
   "outputs": [],
   "source": [
    "import numpy as np"
   ]
  },
  {
   "cell_type": "code",
   "execution_count": 14,
   "id": "f0b61956-f598-4c17-b22a-6d21e807de25",
   "metadata": {},
   "outputs": [],
   "source": [
    "a=np.zeros(10)\n",
    "b=np.ones(10)\n",
    "c=np.linspace(-10,10,10)\n",
    "d=np.arange(-10,10,0.15)"
   ]
  },
  {
   "cell_type": "code",
   "execution_count": 12,
   "id": "627ed5b7-13ef-43de-bbcc-08e7a490c38c",
   "metadata": {},
   "outputs": [
    {
     "data": {
      "text/plain": [
       "array([1., 1., 1., 1., 1., 1., 1., 1., 1., 1.])"
      ]
     },
     "execution_count": 12,
     "metadata": {},
     "output_type": "execute_result"
    }
   ],
   "source": [
    "a+b"
   ]
  },
  {
   "cell_type": "code",
   "execution_count": 10,
   "id": "ec2563ef-f4f5-4876-a7ba-141624b632e7",
   "metadata": {},
   "outputs": [
    {
     "data": {
      "text/plain": [
       "array([2., 2., 2., 2., 2., 2., 2., 2., 2., 2.])"
      ]
     },
     "execution_count": 10,
     "metadata": {},
     "output_type": "execute_result"
    }
   ],
   "source": [
    "a+2"
   ]
  },
  {
   "cell_type": "code",
   "execution_count": 15,
   "id": "8dd9ef70-925a-48d7-99f9-7440e21204ae",
   "metadata": {},
   "outputs": [
    {
     "data": {
      "text/plain": [
       "array([-10.        ,  -7.77777778,  -5.55555556,  -3.33333333,\n",
       "        -1.11111111,   1.11111111,   3.33333333,   5.55555556,\n",
       "         7.77777778,  10.        ])"
      ]
     },
     "execution_count": 15,
     "metadata": {},
     "output_type": "execute_result"
    }
   ],
   "source": [
    "c"
   ]
  },
  {
   "cell_type": "code",
   "execution_count": 16,
   "id": "5a4ce89c-fc5b-42d9-aa91-07695e70bc2f",
   "metadata": {},
   "outputs": [
    {
     "data": {
      "text/plain": [
       "array([-10.  ,  -9.85,  -9.7 ,  -9.55,  -9.4 ,  -9.25,  -9.1 ,  -8.95,\n",
       "        -8.8 ,  -8.65,  -8.5 ,  -8.35,  -8.2 ,  -8.05,  -7.9 ,  -7.75,\n",
       "        -7.6 ,  -7.45,  -7.3 ,  -7.15,  -7.  ,  -6.85,  -6.7 ,  -6.55,\n",
       "        -6.4 ,  -6.25,  -6.1 ,  -5.95,  -5.8 ,  -5.65,  -5.5 ,  -5.35,\n",
       "        -5.2 ,  -5.05,  -4.9 ,  -4.75,  -4.6 ,  -4.45,  -4.3 ,  -4.15,\n",
       "        -4.  ,  -3.85,  -3.7 ,  -3.55,  -3.4 ,  -3.25,  -3.1 ,  -2.95,\n",
       "        -2.8 ,  -2.65,  -2.5 ,  -2.35,  -2.2 ,  -2.05,  -1.9 ,  -1.75,\n",
       "        -1.6 ,  -1.45,  -1.3 ,  -1.15,  -1.  ,  -0.85,  -0.7 ,  -0.55,\n",
       "        -0.4 ,  -0.25,  -0.1 ,   0.05,   0.2 ,   0.35,   0.5 ,   0.65,\n",
       "         0.8 ,   0.95,   1.1 ,   1.25,   1.4 ,   1.55,   1.7 ,   1.85,\n",
       "         2.  ,   2.15,   2.3 ,   2.45,   2.6 ,   2.75,   2.9 ,   3.05,\n",
       "         3.2 ,   3.35,   3.5 ,   3.65,   3.8 ,   3.95,   4.1 ,   4.25,\n",
       "         4.4 ,   4.55,   4.7 ,   4.85,   5.  ,   5.15,   5.3 ,   5.45,\n",
       "         5.6 ,   5.75,   5.9 ,   6.05,   6.2 ,   6.35,   6.5 ,   6.65,\n",
       "         6.8 ,   6.95,   7.1 ,   7.25,   7.4 ,   7.55,   7.7 ,   7.85,\n",
       "         8.  ,   8.15,   8.3 ,   8.45,   8.6 ,   8.75,   8.9 ,   9.05,\n",
       "         9.2 ,   9.35,   9.5 ,   9.65,   9.8 ,   9.95])"
      ]
     },
     "execution_count": 16,
     "metadata": {},
     "output_type": "execute_result"
    }
   ],
   "source": [
    "d"
   ]
  },
  {
   "cell_type": "code",
   "execution_count": 17,
   "id": "e0f133fc-c048-4e79-9664-6d3124156bc2",
   "metadata": {},
   "outputs": [],
   "source": [
    "ab=np.arange(-100,10,0.5)"
   ]
  },
  {
   "cell_type": "code",
   "execution_count": 18,
   "id": "3c95fe79-6b04-4afc-9df1-cb168eb987d8",
   "metadata": {},
   "outputs": [
    {
     "data": {
      "text/plain": [
       "array([-100. ,  -99.5,  -99. ,  -98.5,  -98. ,  -97.5,  -97. ,  -96.5,\n",
       "        -96. ,  -95.5,  -95. ,  -94.5,  -94. ,  -93.5,  -93. ,  -92.5,\n",
       "        -92. ,  -91.5,  -91. ,  -90.5,  -90. ,  -89.5,  -89. ,  -88.5,\n",
       "        -88. ,  -87.5,  -87. ,  -86.5,  -86. ,  -85.5,  -85. ,  -84.5,\n",
       "        -84. ,  -83.5,  -83. ,  -82.5,  -82. ,  -81.5,  -81. ,  -80.5,\n",
       "        -80. ,  -79.5,  -79. ,  -78.5,  -78. ,  -77.5,  -77. ,  -76.5,\n",
       "        -76. ,  -75.5,  -75. ,  -74.5,  -74. ,  -73.5,  -73. ,  -72.5,\n",
       "        -72. ,  -71.5,  -71. ,  -70.5,  -70. ,  -69.5,  -69. ,  -68.5,\n",
       "        -68. ,  -67.5,  -67. ,  -66.5,  -66. ,  -65.5,  -65. ,  -64.5,\n",
       "        -64. ,  -63.5,  -63. ,  -62.5,  -62. ,  -61.5,  -61. ,  -60.5,\n",
       "        -60. ,  -59.5,  -59. ,  -58.5,  -58. ,  -57.5,  -57. ,  -56.5,\n",
       "        -56. ,  -55.5,  -55. ,  -54.5,  -54. ,  -53.5,  -53. ,  -52.5,\n",
       "        -52. ,  -51.5,  -51. ,  -50.5,  -50. ,  -49.5,  -49. ,  -48.5,\n",
       "        -48. ,  -47.5,  -47. ,  -46.5,  -46. ,  -45.5,  -45. ,  -44.5,\n",
       "        -44. ,  -43.5,  -43. ,  -42.5,  -42. ,  -41.5,  -41. ,  -40.5,\n",
       "        -40. ,  -39.5,  -39. ,  -38.5,  -38. ,  -37.5,  -37. ,  -36.5,\n",
       "        -36. ,  -35.5,  -35. ,  -34.5,  -34. ,  -33.5,  -33. ,  -32.5,\n",
       "        -32. ,  -31.5,  -31. ,  -30.5,  -30. ,  -29.5,  -29. ,  -28.5,\n",
       "        -28. ,  -27.5,  -27. ,  -26.5,  -26. ,  -25.5,  -25. ,  -24.5,\n",
       "        -24. ,  -23.5,  -23. ,  -22.5,  -22. ,  -21.5,  -21. ,  -20.5,\n",
       "        -20. ,  -19.5,  -19. ,  -18.5,  -18. ,  -17.5,  -17. ,  -16.5,\n",
       "        -16. ,  -15.5,  -15. ,  -14.5,  -14. ,  -13.5,  -13. ,  -12.5,\n",
       "        -12. ,  -11.5,  -11. ,  -10.5,  -10. ,   -9.5,   -9. ,   -8.5,\n",
       "         -8. ,   -7.5,   -7. ,   -6.5,   -6. ,   -5.5,   -5. ,   -4.5,\n",
       "         -4. ,   -3.5,   -3. ,   -2.5,   -2. ,   -1.5,   -1. ,   -0.5,\n",
       "          0. ,    0.5,    1. ,    1.5,    2. ,    2.5,    3. ,    3.5,\n",
       "          4. ,    4.5,    5. ,    5.5,    6. ,    6.5,    7. ,    7.5,\n",
       "          8. ,    8.5,    9. ,    9.5])"
      ]
     },
     "execution_count": 18,
     "metadata": {},
     "output_type": "execute_result"
    }
   ],
   "source": [
    "ab"
   ]
  },
  {
   "cell_type": "code",
   "execution_count": 19,
   "id": "82f66796-f144-4703-ba85-4acb2983501b",
   "metadata": {
    "tags": []
   },
   "outputs": [
    {
     "name": "stderr",
     "output_type": "stream",
     "text": [
      "Matplotlib is building the font cache; this may take a moment.\n"
     ]
    }
   ],
   "source": [
    "import matplotlib.pyplot as plt"
   ]
  },
  {
   "cell_type": "code",
   "execution_count": 22,
   "id": "b1b381be-8b1b-4610-a4af-a4dc61c0e4b6",
   "metadata": {},
   "outputs": [
    {
     "data": {
      "text/plain": [
       "[<matplotlib.lines.Line2D at 0x7f1dec361700>]"
      ]
     },
     "execution_count": 22,
     "metadata": {},
     "output_type": "execute_result"
    },
    {
     "data": {
      "image/png": "[encoded data removed]",
      "text/plain": [
       "<Figure size 640x480 with 1 Axes>"
      ]
     },
     "metadata": {},
     "output_type": "display_data"
    }
   ],
   "source": [
    "x=np.arange(-np.pi,np.pi,0.1)\n",
    "y=np.cos(x)\n",
    "plt.plot(x,y)"
   ]
  },
  {
   "cell_type": "code",
   "execution_count": null,
   "id": "b8651e63-e252-4b4f-8027-0ba164cf1b6a",
   "metadata": {},
   "outputs": [],
   "source": []
  }
 ],
 "metadata": {
  "kernelspec": {
   "display_name": "Python 3 (ipykernel)",
   "language": "python",
   "name": "python3"
  },
  "language_info": {
   "codemirror_mode": {
    "name": "ipython",
    "version": 3
   },
   "file_extension": ".py",
   "mimetype": "text/x-python",
   "name": "python",
   "nbconvert_exporter": "python",
   "pygments_lexer": "ipython3",
   "version": "3.9.12"
  }
 },
 "nbformat": 4,
 "nbformat_minor": 5
}
